{
 "cells": [
  {
   "cell_type": "markdown",
   "metadata": {},
   "source": [
    "# Работа с временными рядами"
   ]
  },
  {
   "cell_type": "markdown",
   "metadata": {},
   "source": [
    "**Временной ряд** - последовательно измеренные через некоторые (зачастую равные) промежутки времени данные."
   ]
  },
  {
   "cell_type": "markdown",
   "metadata": {},
   "source": [
    "Обычно в задачах анализа данных предполагается независимость наблюдений. При работе с временными рядами мы строим свой прогноз на основе наблюдений из прошлого."
   ]
  },
  {
   "cell_type": "markdown",
   "metadata": {},
   "source": [
    "Компоненты временного ряда:\n",
    "- Тренд - систематическая линейная или нелинейная компонента, изменяющаяся во времени.\n",
    "- Сезонность - периодические колебания уровней временного ряда внутри года (например).\n",
    "- Цикл - периодические колебания, как правило, больше, чем один сезоннный период, не имеют определенной продолжительности.\n",
    "- Ошибка - непрогнозируемая компонента.\n",
    "- Уровень - среднее значение временного ряда."
   ]
  },
  {
   "cell_type": "markdown",
   "metadata": {},
   "source": [
    "<img width = '800px' src=\"images/img-2022-02-14-14-55-39.png\">"
   ]
  },
  {
   "cell_type": "code",
   "execution_count": 2,
   "metadata": {},
   "outputs": [],
   "source": [
    "import pandas as pd \n",
    "import datetime\n",
    "import numpy as np \n",
    "import matplotlib.pyplot as plt \n",
    "import statsmodels.api as sm\n",
    "from pylab import rcParams\n",
    "import warnings\n",
    "from pandas.core.nanops import nanmean as pd_nanmean\n",
    "\n",
    "from sklearn.metrics import mean_absolute_error\n",
    "\n",
    "warnings.filterwarnings('ignore')\n",
    "%matplotlib inline"
   ]
  },
  {
   "cell_type": "code",
   "execution_count": 214,
   "metadata": {},
   "outputs": [],
   "source": []
  },
  {
   "cell_type": "code",
   "execution_count": 276,
   "metadata": {},
   "outputs": [
    {
     "data": {
      "text/html": [
       "<div>\n",
       "<style scoped>\n",
       "    .dataframe tbody tr th:only-of-type {\n",
       "        vertical-align: middle;\n",
       "    }\n",
       "\n",
       "    .dataframe tbody tr th {\n",
       "        vertical-align: top;\n",
       "    }\n",
       "\n",
       "    .dataframe thead th {\n",
       "        text-align: right;\n",
       "    }\n",
       "</style>\n",
       "<table border=\"1\" class=\"dataframe\">\n",
       "  <thead>\n",
       "    <tr style=\"text-align: right;\">\n",
       "      <th></th>\n",
       "      <th>warehouse_id</th>\n",
       "      <th>product_id</th>\n",
       "      <th>quantity</th>\n",
       "      <th>id</th>\n",
       "    </tr>\n",
       "    <tr>\n",
       "      <th>date</th>\n",
       "      <th></th>\n",
       "      <th></th>\n",
       "      <th></th>\n",
       "      <th></th>\n",
       "    </tr>\n",
       "  </thead>\n",
       "  <tbody>\n",
       "    <tr>\n",
       "      <th>2021-04-02</th>\n",
       "      <td>1</td>\n",
       "      <td>88360</td>\n",
       "      <td>1</td>\n",
       "      <td>65975</td>\n",
       "    </tr>\n",
       "    <tr>\n",
       "      <th>2021-04-02</th>\n",
       "      <td>1</td>\n",
       "      <td>95230</td>\n",
       "      <td>1</td>\n",
       "      <td>80331</td>\n",
       "    </tr>\n",
       "    <tr>\n",
       "      <th>2021-04-02</th>\n",
       "      <td>0</td>\n",
       "      <td>87980</td>\n",
       "      <td>2</td>\n",
       "      <td>20579</td>\n",
       "    </tr>\n",
       "    <tr>\n",
       "      <th>2021-04-02</th>\n",
       "      <td>1</td>\n",
       "      <td>96850</td>\n",
       "      <td>2</td>\n",
       "      <td>82369</td>\n",
       "    </tr>\n",
       "    <tr>\n",
       "      <th>2021-04-02</th>\n",
       "      <td>1</td>\n",
       "      <td>94815</td>\n",
       "      <td>4</td>\n",
       "      <td>79600</td>\n",
       "    </tr>\n",
       "    <tr>\n",
       "      <th>...</th>\n",
       "      <td>...</td>\n",
       "      <td>...</td>\n",
       "      <td>...</td>\n",
       "      <td>...</td>\n",
       "    </tr>\n",
       "    <tr>\n",
       "      <th>2021-04-08</th>\n",
       "      <td>0</td>\n",
       "      <td>96105</td>\n",
       "      <td>1</td>\n",
       "      <td>30789</td>\n",
       "    </tr>\n",
       "    <tr>\n",
       "      <th>2021-04-08</th>\n",
       "      <td>0</td>\n",
       "      <td>96275</td>\n",
       "      <td>1</td>\n",
       "      <td>30855</td>\n",
       "    </tr>\n",
       "    <tr>\n",
       "      <th>2021-04-08</th>\n",
       "      <td>0</td>\n",
       "      <td>96345</td>\n",
       "      <td>1</td>\n",
       "      <td>30881</td>\n",
       "    </tr>\n",
       "    <tr>\n",
       "      <th>2021-04-08</th>\n",
       "      <td>0</td>\n",
       "      <td>95750</td>\n",
       "      <td>1</td>\n",
       "      <td>30377</td>\n",
       "    </tr>\n",
       "    <tr>\n",
       "      <th>2021-04-08</th>\n",
       "      <td>1</td>\n",
       "      <td>98635</td>\n",
       "      <td>2</td>\n",
       "      <td>83158</td>\n",
       "    </tr>\n",
       "  </tbody>\n",
       "</table>\n",
       "<p>5209 rows × 4 columns</p>\n",
       "</div>"
      ],
      "text/plain": [
       "            warehouse_id  product_id  quantity     id\n",
       "date                                                 \n",
       "2021-04-02             1       88360         1  65975\n",
       "2021-04-02             1       95230         1  80331\n",
       "2021-04-02             0       87980         2  20579\n",
       "2021-04-02             1       96850         2  82369\n",
       "2021-04-02             1       94815         4  79600\n",
       "...                  ...         ...       ...    ...\n",
       "2021-04-08             0       96105         1  30789\n",
       "2021-04-08             0       96275         1  30855\n",
       "2021-04-08             0       96345         1  30881\n",
       "2021-04-08             0       95750         1  30377\n",
       "2021-04-08             1       98635         2  83158\n",
       "\n",
       "[5209 rows x 4 columns]"
      ]
     },
     "execution_count": 276,
     "metadata": {},
     "output_type": "execute_result"
    }
   ],
   "source": [
    "data = pd.read_csv('train.csv', sep =',',\n",
    "                                 parse_dates=['date'], index_col='date')\n",
    "data.sort_index(inplace=True)\n",
    "X_test = data[data.index > '2021-04-01']\n",
    "X_test"
   ]
  },
  {
   "cell_type": "code",
   "execution_count": 268,
   "metadata": {},
   "outputs": [],
   "source": [
    "data = pd.read_csv('train.csv', sep =',',\n",
    "                                 parse_dates=['date'])"
   ]
  },
  {
   "cell_type": "code",
   "execution_count": 263,
   "metadata": {},
   "outputs": [
    {
     "data": {
      "text/html": [
       "<div>\n",
       "<style scoped>\n",
       "    .dataframe tbody tr th:only-of-type {\n",
       "        vertical-align: middle;\n",
       "    }\n",
       "\n",
       "    .dataframe tbody tr th {\n",
       "        vertical-align: top;\n",
       "    }\n",
       "\n",
       "    .dataframe thead th {\n",
       "        text-align: right;\n",
       "    }\n",
       "</style>\n",
       "<table border=\"1\" class=\"dataframe\">\n",
       "  <thead>\n",
       "    <tr style=\"text-align: right;\">\n",
       "      <th></th>\n",
       "      <th>product_id</th>\n",
       "      <th>warehouse_id</th>\n",
       "      <th>id</th>\n",
       "    </tr>\n",
       "    <tr>\n",
       "      <th>date</th>\n",
       "      <th></th>\n",
       "      <th></th>\n",
       "      <th></th>\n",
       "    </tr>\n",
       "  </thead>\n",
       "  <tbody>\n",
       "    <tr>\n",
       "      <th>2021-04-09</th>\n",
       "      <td>71165</td>\n",
       "      <td>0</td>\n",
       "      <td>0</td>\n",
       "    </tr>\n",
       "    <tr>\n",
       "      <th>2021-04-09</th>\n",
       "      <td>71165</td>\n",
       "      <td>1</td>\n",
       "      <td>1</td>\n",
       "    </tr>\n",
       "    <tr>\n",
       "      <th>2021-04-09</th>\n",
       "      <td>71170</td>\n",
       "      <td>0</td>\n",
       "      <td>2</td>\n",
       "    </tr>\n",
       "    <tr>\n",
       "      <th>2021-04-09</th>\n",
       "      <td>71170</td>\n",
       "      <td>1</td>\n",
       "      <td>3</td>\n",
       "    </tr>\n",
       "    <tr>\n",
       "      <th>2021-04-09</th>\n",
       "      <td>71185</td>\n",
       "      <td>0</td>\n",
       "      <td>4</td>\n",
       "    </tr>\n",
       "    <tr>\n",
       "      <th>...</th>\n",
       "      <td>...</td>\n",
       "      <td>...</td>\n",
       "      <td>...</td>\n",
       "    </tr>\n",
       "    <tr>\n",
       "      <th>2021-04-15</th>\n",
       "      <td>98615</td>\n",
       "      <td>1</td>\n",
       "      <td>46027</td>\n",
       "    </tr>\n",
       "    <tr>\n",
       "      <th>2021-04-15</th>\n",
       "      <td>98620</td>\n",
       "      <td>0</td>\n",
       "      <td>46028</td>\n",
       "    </tr>\n",
       "    <tr>\n",
       "      <th>2021-04-15</th>\n",
       "      <td>98620</td>\n",
       "      <td>1</td>\n",
       "      <td>46029</td>\n",
       "    </tr>\n",
       "    <tr>\n",
       "      <th>2021-04-15</th>\n",
       "      <td>98635</td>\n",
       "      <td>0</td>\n",
       "      <td>46030</td>\n",
       "    </tr>\n",
       "    <tr>\n",
       "      <th>2021-04-15</th>\n",
       "      <td>98635</td>\n",
       "      <td>1</td>\n",
       "      <td>46031</td>\n",
       "    </tr>\n",
       "  </tbody>\n",
       "</table>\n",
       "<p>46032 rows × 3 columns</p>\n",
       "</div>"
      ],
      "text/plain": [
       "            product_id  warehouse_id     id\n",
       "date                                       \n",
       "2021-04-09       71165             0      0\n",
       "2021-04-09       71165             1      1\n",
       "2021-04-09       71170             0      2\n",
       "2021-04-09       71170             1      3\n",
       "2021-04-09       71185             0      4\n",
       "...                ...           ...    ...\n",
       "2021-04-15       98615             1  46027\n",
       "2021-04-15       98620             0  46028\n",
       "2021-04-15       98620             1  46029\n",
       "2021-04-15       98635             0  46030\n",
       "2021-04-15       98635             1  46031\n",
       "\n",
       "[46032 rows x 3 columns]"
      ]
     },
     "execution_count": 263,
     "metadata": {},
     "output_type": "execute_result"
    }
   ],
   "source": [
    "data_test = pd.read_csv('test.csv', sep =',',\n",
    "                                 parse_dates=['date'], index_col='date')\n",
    "data_test.sort_index(inplace=True)\n",
    "test_X = data_test\n",
    "test_X"
   ]
  },
  {
   "cell_type": "code",
   "execution_count": 251,
   "metadata": {},
   "outputs": [
    {
     "ename": "KeyError",
     "evalue": "71350",
     "output_type": "error",
     "traceback": [
      "\u001b[0;31m---------------------------------------------------------------------------\u001b[0m",
      "\u001b[0;31mKeyError\u001b[0m                                  Traceback (most recent call last)",
      "\u001b[0;32m<ipython-input-251-796ca9e601ac>\u001b[0m in \u001b[0;36m<module>\u001b[0;34m\u001b[0m\n\u001b[0;32m----> 1\u001b[0;31m \u001b[0mdata_products\u001b[0m\u001b[0;34m[\u001b[0m\u001b[0;36m1\u001b[0m\u001b[0;34m]\u001b[0m\u001b[0;34m[\u001b[0m\u001b[0;36m71350\u001b[0m\u001b[0;34m]\u001b[0m\u001b[0;34m\u001b[0m\u001b[0;34m\u001b[0m\u001b[0m\n\u001b[0m",
      "\u001b[0;31mKeyError\u001b[0m: 71350"
     ]
    }
   ],
   "source": [
    "data_products[1][71350]"
   ]
  },
  {
   "cell_type": "code",
   "execution_count": 271,
   "metadata": {},
   "outputs": [],
   "source": [
    "y_test = []\n",
    "for ind, row in test_X.iterrows():\n",
    "    try:\n",
    "        res = exponential_smoothing(data_products[row['warehouse_id']][row['product_id']], 0.1)\n",
    "        np.append(data_products[row['warehouse_id']][row['product_id']], res)\n",
    "    except KeyError:\n",
    "        res = 0\n",
    "    \n",
    "    y_test.append(res)"
   ]
  },
  {
   "cell_type": "code",
   "execution_count": 272,
   "metadata": {},
   "outputs": [
    {
     "data": {
      "text/plain": [
       "9525.21531226523"
      ]
     },
     "execution_count": 272,
     "metadata": {},
     "output_type": "execute_result"
    }
   ],
   "source": [
    "sum(y_test)"
   ]
  },
  {
   "cell_type": "code",
   "execution_count": 260,
   "metadata": {},
   "outputs": [
    {
     "data": {
      "text/plain": [
       "9525.21531226523"
      ]
     },
     "execution_count": 260,
     "metadata": {},
     "output_type": "execute_result"
    }
   ],
   "source": [
    "sum(y_test)"
   ]
  },
  {
   "cell_type": "code",
   "execution_count": 274,
   "metadata": {},
   "outputs": [],
   "source": [
    "import csv\n",
    "f = open('test_ans2.csv', 'w')\n",
    "# create the csv writer\n",
    "\n",
    "# write a row to the csv file\n",
    "f.write(\"id,quantity\\n\")\n",
    "for i in range(0, 46032):\n",
    "    #row = \"% s\" % i % (y_pred[i - 11691])\n",
    "    row = str(i) + ',' + str(int(y_test[i]))\n",
    "    f.write(row)\n",
    "    f.write(\"\\n\")"
   ]
  },
  {
   "cell_type": "code",
   "execution_count": null,
   "metadata": {},
   "outputs": [],
   "source": [
    "for ind, row in X_test.iterrows():\n",
    "    print(row['quantity'])\n",
    "    print('hello')"
   ]
  },
  {
   "cell_type": "code",
   "execution_count": null,
   "metadata": {
    "scrolled": true
   },
   "outputs": [],
   "source": [
    "data_0 = data[data['warehouse_id'] == 0]\n",
    "print(data_0[data_0['product_id'] == 71170])"
   ]
  },
  {
   "cell_type": "code",
   "execution_count": 147,
   "metadata": {},
   "outputs": [
    {
     "data": {
      "text/plain": [
       "id\n",
       "0       2020-12-02\n",
       "1       2020-12-03\n",
       "2       2020-12-07\n",
       "3       2020-12-08\n",
       "4       2020-12-09\n",
       "           ...    \n",
       "31805   2021-04-07\n",
       "31812   2021-04-06\n",
       "31816   2021-04-07\n",
       "31817   2021-04-08\n",
       "31822   2021-04-06\n",
       "Name: date, Length: 29792, dtype: datetime64[ns]"
      ]
     },
     "execution_count": 147,
     "metadata": {},
     "output_type": "execute_result"
    }
   ],
   "source": [
    "data_0['date']"
   ]
  },
  {
   "cell_type": "code",
   "execution_count": 266,
   "metadata": {
    "scrolled": true
   },
   "outputs": [],
   "source": [
    "data_products = {}\n",
    "def separate_products(i):\n",
    "    data_products[i] = {}\n",
    "    data_temp = data[data['warehouse_id'] == i]\n",
    "    for j in data_temp['product_id']:\n",
    "        df =  data_temp[data_temp['product_id'] == j]\n",
    "        #print(df)\n",
    "        # my_dates = pd.date_range('2020-12-02', '2021-04-08', freq='D')\n",
    "\n",
    "        # idx = pd.MultiIndex.from_product([my_dates], names=['date'])\n",
    "        df = df.set_index(['date']).reindex(pd.date_range(start='2020-12-02', end='2021-04-08',freq='D')).fillna(0).reset_index()\n",
    "        \n",
    "        # df.set_index(df['date'])\n",
    "        data_products[i][j] = df['quantity'].to_numpy()\n",
    "        # print(df)\n",
    "    print(i)"
   ]
  },
  {
   "cell_type": "code",
   "execution_count": 85,
   "metadata": {},
   "outputs": [],
   "source": [
    "from tqdm import tqdm\n",
    "from multiprocessing.dummy import Pool, Queue"
   ]
  },
  {
   "cell_type": "code",
   "execution_count": 269,
   "metadata": {},
   "outputs": [
    {
     "name": "stdout",
     "output_type": "stream",
     "text": [
      "0\n",
      "1\n"
     ]
    }
   ],
   "source": [
    "separate_products(0)\n",
    "separate_products(1)"
   ]
  },
  {
   "cell_type": "code",
   "execution_count": 219,
   "metadata": {
    "scrolled": true
   },
   "outputs": [
    {
     "data": {
      "text/plain": [
       "array([0., 0., 0., 0., 0., 0., 0., 0., 0., 0., 0., 0., 0., 0., 0., 0., 0.,\n",
       "       0., 0., 0., 0., 0., 0., 0., 0., 0., 0., 0., 0., 0., 0., 0., 0., 0.,\n",
       "       0., 0., 0., 0., 0., 0., 0., 0., 0., 0., 0., 0., 0., 0., 0., 0., 0.,\n",
       "       0., 0., 0., 0., 0., 0., 0., 0., 0., 0., 0., 0., 0., 0., 0., 0., 0.,\n",
       "       0., 1., 3., 3., 3., 0., 2., 1., 3., 2., 4., 0., 2., 0., 0., 1., 0.,\n",
       "       0., 1., 2., 3., 2., 1., 2., 3., 0., 7., 4., 3., 0., 0., 0., 0., 0.,\n",
       "       0., 0., 0., 0., 0., 0., 0., 0., 0., 3., 6., 4., 5., 5., 1., 0., 0.,\n",
       "       0., 0., 0., 0., 0., 0., 0., 0., 0.])"
      ]
     },
     "execution_count": 219,
     "metadata": {},
     "output_type": "execute_result"
    }
   ],
   "source": [
    "data_products[0][71170].to_numpy()"
   ]
  },
  {
   "cell_type": "code",
   "execution_count": 270,
   "metadata": {},
   "outputs": [],
   "source": [
    "def exponential_smoothing(series, alpha):\n",
    "    result = [series[0]] \n",
    "    \n",
    "    for n in range(1, len(series)):\n",
    "        result.append(alpha * series[n] + (1 - alpha) * result[n-1])\n",
    "    return result[-1]"
   ]
  },
  {
   "cell_type": "code",
   "execution_count": 227,
   "metadata": {},
   "outputs": [],
   "source": [
    "y_pred = []"
   ]
  },
  {
   "cell_type": "code",
   "execution_count": 238,
   "metadata": {},
   "outputs": [],
   "source": [
    "y_pred = []\n",
    "for ind, row in X_test.iterrows():\n",
    "    res = exponential_smoothing(data_products[row['warehouse_id']][row['product_id']][:-7], 0.1)\n",
    "    np.append(data_products[row['warehouse_id']][row['product_id']], res)\n",
    "    y_pred.append(res)"
   ]
  },
  {
   "cell_type": "code",
   "execution_count": 226,
   "metadata": {},
   "outputs": [],
   "source": [
    "y_test = X_test['quantity'].to_numpy()"
   ]
  },
  {
   "cell_type": "code",
   "execution_count": 230,
   "metadata": {},
   "outputs": [
    {
     "data": {
      "text/plain": [
       "5209"
      ]
     },
     "execution_count": 230,
     "metadata": {},
     "output_type": "execute_result"
    }
   ],
   "source": [
    "len(y_test)"
   ]
  },
  {
   "cell_type": "code",
   "execution_count": 229,
   "metadata": {},
   "outputs": [
    {
     "data": {
      "text/plain": [
       "5209"
      ]
     },
     "execution_count": 229,
     "metadata": {},
     "output_type": "execute_result"
    }
   ],
   "source": [
    "len(y_pred)"
   ]
  },
  {
   "cell_type": "code",
   "execution_count": 239,
   "metadata": {},
   "outputs": [
    {
     "data": {
      "text/plain": [
       "1.2132366145364113"
      ]
     },
     "execution_count": 239,
     "metadata": {},
     "output_type": "execute_result"
    }
   ],
   "source": [
    "mean_absolute_error(y_pred, y_test)"
   ]
  },
  {
   "cell_type": "code",
   "execution_count": 194,
   "metadata": {},
   "outputs": [
    {
     "data": {
      "text/plain": [
       "0.01856359036868414"
      ]
     },
     "execution_count": 194,
     "metadata": {},
     "output_type": "execute_result"
    }
   ],
   "source": [
    "exponential_smoothing(data_products[0][71170]['quantity'][:-1], 0.4)"
   ]
  }
 ],
 "metadata": {
  "kernelspec": {
   "display_name": "Python 3",
   "language": "python",
   "name": "python3"
  },
  "language_info": {
   "codemirror_mode": {
    "name": "ipython",
    "version": 3
   },
   "file_extension": ".py",
   "mimetype": "text/x-python",
   "name": "python",
   "nbconvert_exporter": "python",
   "pygments_lexer": "ipython3",
   "version": "3.7.10"
  }
 },
 "nbformat": 4,
 "nbformat_minor": 2
}
